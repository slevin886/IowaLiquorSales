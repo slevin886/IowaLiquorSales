{
 "cells": [
  {
   "cell_type": "code",
   "execution_count": 1,
   "metadata": {},
   "outputs": [
    {
     "name": "stderr",
     "output_type": "stream",
     "text": [
      "/Users/slevin886/anaconda2/envs/python3/lib/python3.6/site-packages/statsmodels/compat/pandas.py:56: FutureWarning: The pandas.core.datetools module is deprecated and will be removed in a future version. Please use the pandas.tseries module instead.\n",
      "  from pandas.core import datetools\n"
     ]
    }
   ],
   "source": [
    "import pandas as pd \n",
    "import numpy as np\n",
    "import matplotlib.pyplot as plt\n",
    "import seaborn as sns\n",
    "from sklearn.preprocessing import StandardScaler\n",
    "import statsmodels.api as sm\n",
    "from sklearn.linear_model import LinearRegression, LogisticRegression\n",
    "from sklearn.metrics import mean_squared_error, r2_score\n",
    "from sklearn.model_selection import train_test_split\n",
    "import re\n",
    "%matplotlib inline \n"
   ]
  },
  {
   "cell_type": "code",
   "execution_count": 2,
   "metadata": {},
   "outputs": [
    {
     "name": "stderr",
     "output_type": "stream",
     "text": [
      "/Users/slevin886/anaconda2/envs/python3/lib/python3.6/site-packages/IPython/core/interactiveshell.py:2728: DtypeWarning: Columns (6) have mixed types. Specify dtype option on import or set low_memory=False.\n",
      "  interactivity=interactivity, compiler=compiler, result=result)\n"
     ]
    },
    {
     "data": {
      "text/plain": [
       "(2709552, 24)"
      ]
     },
     "execution_count": 2,
     "metadata": {},
     "output_type": "execute_result"
    }
   ],
   "source": [
    "booze = pd.read_csv('../iowa_liquor_sales_proj_2.csv')\n",
    "booze.shape"
   ]
  },
  {
   "cell_type": "code",
   "execution_count": 4,
   "metadata": {},
   "outputs": [
    {
     "data": {
      "text/html": [
       "<div>\n",
       "<style scoped>\n",
       "    .dataframe tbody tr th:only-of-type {\n",
       "        vertical-align: middle;\n",
       "    }\n",
       "\n",
       "    .dataframe tbody tr th {\n",
       "        vertical-align: top;\n",
       "    }\n",
       "\n",
       "    .dataframe thead th {\n",
       "        text-align: right;\n",
       "    }\n",
       "</style>\n",
       "<table border=\"1\" class=\"dataframe\">\n",
       "  <thead>\n",
       "    <tr style=\"text-align: right;\">\n",
       "      <th></th>\n",
       "      <th>Invoice/Item Number</th>\n",
       "      <th>Date</th>\n",
       "      <th>Store Number</th>\n",
       "      <th>Store Name</th>\n",
       "      <th>Address</th>\n",
       "      <th>City</th>\n",
       "      <th>Zip Code</th>\n",
       "      <th>Store Location</th>\n",
       "      <th>County Number</th>\n",
       "      <th>County</th>\n",
       "      <th>...</th>\n",
       "      <th>Item Number</th>\n",
       "      <th>Item Description</th>\n",
       "      <th>Pack</th>\n",
       "      <th>Bottle Volume (ml)</th>\n",
       "      <th>State Bottle Cost</th>\n",
       "      <th>State Bottle Retail</th>\n",
       "      <th>Bottles Sold</th>\n",
       "      <th>Sale (Dollars)</th>\n",
       "      <th>Volume Sold (Liters)</th>\n",
       "      <th>Volume Sold (Gallons)</th>\n",
       "    </tr>\n",
       "  </thead>\n",
       "  <tbody>\n",
       "    <tr>\n",
       "      <th>0</th>\n",
       "      <td>S29198800001</td>\n",
       "      <td>11/20/2015</td>\n",
       "      <td>2191</td>\n",
       "      <td>Keokuk Spirits</td>\n",
       "      <td>1013 MAIN</td>\n",
       "      <td>KEOKUK</td>\n",
       "      <td>52632</td>\n",
       "      <td>1013 MAIN\\nKEOKUK 52632\\n(40.39978, -91.387531)</td>\n",
       "      <td>56.0</td>\n",
       "      <td>Lee</td>\n",
       "      <td>...</td>\n",
       "      <td>297</td>\n",
       "      <td>Templeton Rye w/Flask</td>\n",
       "      <td>6</td>\n",
       "      <td>750</td>\n",
       "      <td>$18.09</td>\n",
       "      <td>$27.14</td>\n",
       "      <td>6</td>\n",
       "      <td>$162.84</td>\n",
       "      <td>4.50</td>\n",
       "      <td>1.19</td>\n",
       "    </tr>\n",
       "    <tr>\n",
       "      <th>1</th>\n",
       "      <td>S29195400002</td>\n",
       "      <td>11/21/2015</td>\n",
       "      <td>2205</td>\n",
       "      <td>Ding's Honk And Holler</td>\n",
       "      <td>900 E WASHINGTON</td>\n",
       "      <td>CLARINDA</td>\n",
       "      <td>51632</td>\n",
       "      <td>900 E WASHINGTON\\nCLARINDA 51632\\n(40.739238, ...</td>\n",
       "      <td>73.0</td>\n",
       "      <td>Page</td>\n",
       "      <td>...</td>\n",
       "      <td>297</td>\n",
       "      <td>Templeton Rye w/Flask</td>\n",
       "      <td>6</td>\n",
       "      <td>750</td>\n",
       "      <td>$18.09</td>\n",
       "      <td>$27.14</td>\n",
       "      <td>12</td>\n",
       "      <td>$325.68</td>\n",
       "      <td>9.00</td>\n",
       "      <td>2.38</td>\n",
       "    </tr>\n",
       "    <tr>\n",
       "      <th>2</th>\n",
       "      <td>S29050300001</td>\n",
       "      <td>11/16/2015</td>\n",
       "      <td>3549</td>\n",
       "      <td>Quicker Liquor Store</td>\n",
       "      <td>1414 48TH ST</td>\n",
       "      <td>FORT MADISON</td>\n",
       "      <td>52627</td>\n",
       "      <td>1414 48TH ST\\nFORT MADISON 52627\\n(40.624226, ...</td>\n",
       "      <td>56.0</td>\n",
       "      <td>Lee</td>\n",
       "      <td>...</td>\n",
       "      <td>249</td>\n",
       "      <td>Disaronno Amaretto Cavalli Mignon 3-50ml Pack</td>\n",
       "      <td>20</td>\n",
       "      <td>150</td>\n",
       "      <td>$6.40</td>\n",
       "      <td>$9.60</td>\n",
       "      <td>2</td>\n",
       "      <td>$19.20</td>\n",
       "      <td>0.30</td>\n",
       "      <td>0.08</td>\n",
       "    </tr>\n",
       "    <tr>\n",
       "      <th>3</th>\n",
       "      <td>S28867700001</td>\n",
       "      <td>11/04/2015</td>\n",
       "      <td>2513</td>\n",
       "      <td>Hy-Vee Food Store #2 / Iowa City</td>\n",
       "      <td>812  S 1ST AVE</td>\n",
       "      <td>IOWA CITY</td>\n",
       "      <td>52240</td>\n",
       "      <td>812 S 1ST AVE\\nIOWA CITY 52240\\n</td>\n",
       "      <td>52.0</td>\n",
       "      <td>Johnson</td>\n",
       "      <td>...</td>\n",
       "      <td>237</td>\n",
       "      <td>Knob Creek w/ Crystal Decanter</td>\n",
       "      <td>3</td>\n",
       "      <td>1750</td>\n",
       "      <td>$35.55</td>\n",
       "      <td>$53.34</td>\n",
       "      <td>3</td>\n",
       "      <td>$160.02</td>\n",
       "      <td>5.25</td>\n",
       "      <td>1.39</td>\n",
       "    </tr>\n",
       "    <tr>\n",
       "      <th>4</th>\n",
       "      <td>S29050800001</td>\n",
       "      <td>11/17/2015</td>\n",
       "      <td>3942</td>\n",
       "      <td>Twin Town Liquor</td>\n",
       "      <td>104 HIGHWAY 30 WEST</td>\n",
       "      <td>TOLEDO</td>\n",
       "      <td>52342</td>\n",
       "      <td>104 HIGHWAY 30 WEST\\nTOLEDO 52342\\n(41.985887,...</td>\n",
       "      <td>86.0</td>\n",
       "      <td>Tama</td>\n",
       "      <td>...</td>\n",
       "      <td>249</td>\n",
       "      <td>Disaronno Amaretto Cavalli Mignon 3-50ml Pack</td>\n",
       "      <td>20</td>\n",
       "      <td>150</td>\n",
       "      <td>$6.40</td>\n",
       "      <td>$9.60</td>\n",
       "      <td>2</td>\n",
       "      <td>$19.20</td>\n",
       "      <td>0.30</td>\n",
       "      <td>0.08</td>\n",
       "    </tr>\n",
       "  </tbody>\n",
       "</table>\n",
       "<p>5 rows × 24 columns</p>\n",
       "</div>"
      ],
      "text/plain": [
       "  Invoice/Item Number        Date  Store Number  \\\n",
       "0        S29198800001  11/20/2015          2191   \n",
       "1        S29195400002  11/21/2015          2205   \n",
       "2        S29050300001  11/16/2015          3549   \n",
       "3        S28867700001  11/04/2015          2513   \n",
       "4        S29050800001  11/17/2015          3942   \n",
       "\n",
       "                         Store Name              Address          City  \\\n",
       "0                    Keokuk Spirits            1013 MAIN        KEOKUK   \n",
       "1            Ding's Honk And Holler     900 E WASHINGTON      CLARINDA   \n",
       "2              Quicker Liquor Store         1414 48TH ST  FORT MADISON   \n",
       "3  Hy-Vee Food Store #2 / Iowa City       812  S 1ST AVE     IOWA CITY   \n",
       "4                  Twin Town Liquor  104 HIGHWAY 30 WEST        TOLEDO   \n",
       "\n",
       "  Zip Code                                     Store Location  County Number  \\\n",
       "0    52632    1013 MAIN\\nKEOKUK 52632\\n(40.39978, -91.387531)           56.0   \n",
       "1    51632  900 E WASHINGTON\\nCLARINDA 51632\\n(40.739238, ...           73.0   \n",
       "2    52627  1414 48TH ST\\nFORT MADISON 52627\\n(40.624226, ...           56.0   \n",
       "3    52240                   812 S 1ST AVE\\nIOWA CITY 52240\\n           52.0   \n",
       "4    52342  104 HIGHWAY 30 WEST\\nTOLEDO 52342\\n(41.985887,...           86.0   \n",
       "\n",
       "    County          ...           Item Number  \\\n",
       "0      Lee          ...                   297   \n",
       "1     Page          ...                   297   \n",
       "2      Lee          ...                   249   \n",
       "3  Johnson          ...                   237   \n",
       "4     Tama          ...                   249   \n",
       "\n",
       "                                Item Description  Pack Bottle Volume (ml)  \\\n",
       "0                          Templeton Rye w/Flask     6                750   \n",
       "1                          Templeton Rye w/Flask     6                750   \n",
       "2  Disaronno Amaretto Cavalli Mignon 3-50ml Pack    20                150   \n",
       "3                 Knob Creek w/ Crystal Decanter     3               1750   \n",
       "4  Disaronno Amaretto Cavalli Mignon 3-50ml Pack    20                150   \n",
       "\n",
       "   State Bottle Cost State Bottle Retail  Bottles Sold  Sale (Dollars)  \\\n",
       "0             $18.09              $27.14             6         $162.84   \n",
       "1             $18.09              $27.14            12         $325.68   \n",
       "2              $6.40               $9.60             2          $19.20   \n",
       "3             $35.55              $53.34             3         $160.02   \n",
       "4              $6.40               $9.60             2          $19.20   \n",
       "\n",
       "  Volume Sold (Liters) Volume Sold (Gallons)  \n",
       "0                 4.50                  1.19  \n",
       "1                 9.00                  2.38  \n",
       "2                 0.30                  0.08  \n",
       "3                 5.25                  1.39  \n",
       "4                 0.30                  0.08  \n",
       "\n",
       "[5 rows x 24 columns]"
      ]
     },
     "execution_count": 4,
     "metadata": {},
     "output_type": "execute_result"
    }
   ],
   "source": [
    "booze.head()"
   ]
  },
  {
   "cell_type": "code",
   "execution_count": 5,
   "metadata": {
    "collapsed": true
   },
   "outputs": [],
   "source": [
    "#Converting date column to datetime format\n",
    "booze['Date'] = pd.to_datetime(booze['Date'], infer_datetime_format=True)"
   ]
  },
  {
   "cell_type": "code",
   "execution_count": 6,
   "metadata": {
    "collapsed": true
   },
   "outputs": [],
   "source": [
    "#Cleaning columns to be numeric\n",
    "booze['Sale (Dollars)'] = booze['Sale (Dollars)'].str.replace('$', '').astype(float)\n",
    "booze['State Bottle Retail'] = booze['State Bottle Retail'].str.replace('$', '').astype(float)\n",
    "booze['State Bottle Cost'] = booze['State Bottle Cost'].str.replace('$', '').astype(float)"
   ]
  },
  {
   "cell_type": "code",
   "execution_count": 7,
   "metadata": {
    "collapsed": true
   },
   "outputs": [],
   "source": [
    "#Turning non-numeric numeric columns into objects \n",
    "booze['Category'] = booze['Category'].astype(object)\n",
    "booze['Vendor Number'] = booze['Vendor Number'].astype(object)\n",
    "booze['Item Number'] = booze['Item Number'].astype(object)\n",
    "booze['County Number'] = booze['County Number'].astype(object)\n",
    "booze['Store Number'] = booze['Store Number'].astype(object)"
   ]
  },
  {
   "cell_type": "code",
   "execution_count": 8,
   "metadata": {
    "collapsed": true
   },
   "outputs": [],
   "source": [
    "#Selecting only the numeric columns\n",
    "numeric_columns = []\n",
    "for col in booze.columns:\n",
    "    if isinstance(booze[col][0], (np.float64, np.int64)):\n",
    "        numeric_columns.append(col)"
   ]
  },
  {
   "cell_type": "code",
   "execution_count": 9,
   "metadata": {
    "collapsed": true
   },
   "outputs": [],
   "source": [
    "#creating subframe to identify  outliers, standardizing\n",
    "mask = booze[numeric_columns]\n",
    "standard_mask = StandardScaler()\n",
    "mask = pd.DataFrame(standard_mask.fit_transform(mask), columns=numeric_columns)"
   ]
  },
  {
   "cell_type": "code",
   "execution_count": 10,
   "metadata": {
    "collapsed": true
   },
   "outputs": [],
   "source": [
    "#LOCATING OUTLIERS and DROPPING THEM\n",
    "index_list = []\n",
    "\n",
    "for col in mask.columns: \n",
    "    df = mask.loc[(mask[col] > 6) | (mask[col] < -6)]\n",
    "    index_list.extend(list(df.index))\n",
    "\n",
    "index_list = list(set(index_list))\n",
    "\n",
    "todrop = mask.iloc[index_list]\n",
    "\n",
    "#Exploring outliers- the outliers seem well dispersed between cities\n",
    "booze.iloc[index_list].groupby('City')[['Store Number']].nunique()\n",
    "#The types of liquors prevalent in the subgroup are also dispersed between brand types \n",
    "booze.iloc[index_list].groupby('Item Description')[['Store Number']].nunique().sort_values(by='Store Number', ascending=False)\n",
    "\n",
    "#Will run with and without these outliers, creating subset with outliers removed,\n",
    "#dropped observations represent less than 0.5% of observations and are more than 6 standard\n",
    "#deviations from the mean\n",
    "booze_cleaned = booze.drop(todrop.index)\n",
    "mask = mask.drop(todrop.index)"
   ]
  },
  {
   "cell_type": "code",
   "execution_count": 11,
   "metadata": {},
   "outputs": [
    {
     "data": {
      "image/png": "[encoded data removed]",
      "text/plain": [
       "<matplotlib.figure.Figure at 0x1c2c5136a0>"
      ]
     },
     "metadata": {},
     "output_type": "display_data"
    }
   ],
   "source": [
    "#Looking at distributions\n",
    "#The outliers from pack size appear to be reasonable\n",
    "#the fireball mini dispenser comprises 92% of the bottle volume outliers above 2 stds. This is ok. \n",
    "#Most outliers explained by the peculiarity of brand or the purpose of store (primarily liquor store/not liquor store)\n",
    "#USE two lines of code below code to explore further, replacing column as aprpriorate\n",
    "#list_pack = list(mask.loc[mask['Bottles Sold'] > 3].index)\n",
    "# booze.iloc[list_pack]\n",
    "fig = plt.figure(figsize=(6, 8))\n",
    "plt.style.use('fivethirtyeight')\n",
    "ax = sns.boxplot(data=mask, orient=\"h\", palette=\"Set2\")"
   ]
  },
  {
   "cell_type": "code",
   "execution_count": 12,
   "metadata": {
    "collapsed": true
   },
   "outputs": [],
   "source": [
    "#Splitting between 2015 and 2016\n",
    "mask_dates = (booze_cleaned['Date'] > '12/31/2014') & (booze_cleaned['Date'] < '1/1/2016')\n",
    "booze_2015 = booze_cleaned.loc[mask_dates]\n",
    "mask_dates2 = (booze_cleaned['Date'] > '12/31/2015')\n",
    "booze_2016 = booze_cleaned.loc[mask_dates2]"
   ]
  },
  {
   "cell_type": "code",
   "execution_count": 13,
   "metadata": {},
   "outputs": [
    {
     "data": {
      "text/plain": [
       "<matplotlib.axes._subplots.AxesSubplot at 0x1c2c99bd30>"
      ]
     },
     "execution_count": 13,
     "metadata": {},
     "output_type": "execute_result"
    },
    {
     "data": {
      "image/png": "[encoded data removed]",
      "text/plain": [
       "<matplotlib.figure.Figure at 0x1c3e96dbe0>"
      ]
     },
     "metadata": {},
     "output_type": "display_data"
    }
   ],
   "source": [
    "#Creating my 2015 target variable, and examining dispersion of sales data\n",
    "target = booze_2015.groupby('Store Number')[['Sale (Dollars)']].sum()\n",
    "target.plot.box()"
   ]
  },
  {
   "cell_type": "code",
   "execution_count": 14,
   "metadata": {},
   "outputs": [
    {
     "data": {
      "image/png": "[encoded data removed]",
      "text/plain": [
       "<matplotlib.figure.Figure at 0x1c2cecbcf8>"
      ]
     },
     "metadata": {},
     "output_type": "display_data"
    }
   ],
   "source": [
    "#Creating a chart for monthly total sales in Iowa 2015\n",
    "booze_2015_charts = booze_2015.copy()\n",
    "booze_2015_charts = booze_2015_charts.set_index('Date').resample('M')[['Sale (Dollars)']].sum()\n",
    "booze_2015_charts['Sales in Millions'] = booze_2015_charts['Sale (Dollars)'] / 1000000\n",
    "booze_2015_charts['Sales in Millions'].plot()\n",
    "plt.legend()\n",
    "plt.ylabel('Sales in Millions')\n",
    "plt.xlabel('')\n",
    "plt.title('2015 Sales in Iowa')\n",
    "plt.show()"
   ]
  },
  {
   "cell_type": "code",
   "execution_count": 15,
   "metadata": {
    "collapsed": true
   },
   "outputs": [],
   "source": [
    "X_booze = booze_2015.groupby('Store Number')[['State Bottle Cost', 'State Bottle Retail', 'Bottles Sold',\n",
    "       'Sale (Dollars)', 'Volume Sold (Gallons)']].sum().reset_index(level=0)"
   ]
  },
  {
   "cell_type": "code",
   "execution_count": 16,
   "metadata": {
    "collapsed": true
   },
   "outputs": [],
   "source": [
    "#Merging demographic details with X_booze\n",
    "x_county = booze_2015.drop_duplicates(subset=['Store Number', 'County'])\n",
    "\n",
    "#Removing duplicate county (because of NaN value)\n",
    "mask3 = x_county[x_county['Store Number'].duplicated(keep=False)]\n",
    "x_county = x_county[['County', 'Store Number']].drop([469])\n",
    "\n",
    "#Merge beginning\n",
    "x_first = pd.merge(X_booze, x_county, on='Store Number')\n",
    "\n",
    "#Cleaning county demographics\n",
    "county_demographics = pd.read_csv('../IowaDemographics.csv',index_col=0)\n",
    "county_demographics['Areaname'] = county_demographics['Areaname'].str.split(',', expand=True)\n",
    "county_demographics = county_demographics.drop('Median household income 2005', axis=1)\n",
    "county_demographics['Median household income 2009 (thousands)']= county_demographics['Median household income 2009'] / 1000\n",
    "\n",
    "#Merging\n",
    "X = pd.merge(x_first, county_demographics, left_on='County', right_on='Areaname')\n",
    "X = X.drop('Areaname', axis = 1)\n",
    "X = X.drop('Sale (Dollars)', axis=1)\n"
   ]
  },
  {
   "cell_type": "code",
   "execution_count": 17,
   "metadata": {
    "collapsed": true
   },
   "outputs": [],
   "source": [
    "#Creating first three months variable\n",
    "mask_dates_two = (booze_2015['Date'] > '12/31/2014') & (booze_2015['Date'] < '4/1/2015')\n",
    "three_months = booze_2015[mask_dates_two]\n",
    "three_months = three_months.groupby('Store Number')['Sale (Dollars)'].sum().reset_index(level=0)\n",
    "\n",
    "#91 stores didn't have sales in the first three months of 2015\n",
    "missing_stores = list(set(X['Store Number']) - set(three_months['Store Number']))\n",
    "monthly_sales_missing = booze_2015[booze_2015['Store Number'].isin(missing_stores)].set_index(['Date']).resample('M')['Sale (Dollars)'].sum()"
   ]
  },
  {
   "cell_type": "code",
   "execution_count": 18,
   "metadata": {
    "collapsed": true
   },
   "outputs": [],
   "source": [
    "#Taking the average sales  from the worst month (January) and extrapolating (conservatively) on that\n",
    "# 16684491 / (1373 - 91)\n",
    "missing_stores_sim = pd.DataFrame({'Store Number': missing_stores, 'Three months (thousands)': (13014 * 3)/1000})\n",
    "three_months = three_months.rename(index=str, columns={'Store Number': 'Store Number',\n",
    "                                                      'Sale (Dollars)': 'Three months (thousands)'})\n",
    "three_months['Three months (thousands)'] = three_months['Three months (thousands)'] / 1000"
   ]
  },
  {
   "cell_type": "code",
   "execution_count": 19,
   "metadata": {
    "collapsed": true
   },
   "outputs": [],
   "source": [
    "#appending missing stores to three month variable\n",
    "three_month_sales = three_months.append(missing_stores_sim).reset_index(drop=True)\n",
    "\n",
    "#merging three month variable to X \n",
    "X = pd.merge(X, three_month_sales, on='Store Number')"
   ]
  },
  {
   "cell_type": "code",
   "execution_count": 20,
   "metadata": {},
   "outputs": [
    {
     "data": {
      "text/html": [
       "<div>\n",
       "<style scoped>\n",
       "    .dataframe tbody tr th:only-of-type {\n",
       "        vertical-align: middle;\n",
       "    }\n",
       "\n",
       "    .dataframe tbody tr th {\n",
       "        vertical-align: top;\n",
       "    }\n",
       "\n",
       "    .dataframe thead th {\n",
       "        text-align: right;\n",
       "    }\n",
       "</style>\n",
       "<table border=\"1\" class=\"dataframe\">\n",
       "  <thead>\n",
       "    <tr style=\"text-align: right;\">\n",
       "      <th></th>\n",
       "      <th>Store Number</th>\n",
       "      <th>State Bottle Cost</th>\n",
       "      <th>State Bottle Retail</th>\n",
       "      <th>Bottles Sold</th>\n",
       "      <th>Sale (Dollars)</th>\n",
       "      <th>Volume Sold (Gallons)</th>\n",
       "    </tr>\n",
       "  </thead>\n",
       "  <tbody>\n",
       "    <tr>\n",
       "      <th>0</th>\n",
       "      <td>2106</td>\n",
       "      <td>12739.50</td>\n",
       "      <td>19125.22</td>\n",
       "      <td>21793</td>\n",
       "      <td>313463.43</td>\n",
       "      <td>5369.95</td>\n",
       "    </tr>\n",
       "    <tr>\n",
       "      <th>1</th>\n",
       "      <td>2113</td>\n",
       "      <td>3558.75</td>\n",
       "      <td>5342.48</td>\n",
       "      <td>1618</td>\n",
       "      <td>22351.86</td>\n",
       "      <td>423.73</td>\n",
       "    </tr>\n",
       "    <tr>\n",
       "      <th>2</th>\n",
       "      <td>2130</td>\n",
       "      <td>9574.79</td>\n",
       "      <td>14370.92</td>\n",
       "      <td>16123</td>\n",
       "      <td>238893.70</td>\n",
       "      <td>3863.08</td>\n",
       "    </tr>\n",
       "    <tr>\n",
       "      <th>3</th>\n",
       "      <td>2152</td>\n",
       "      <td>2954.28</td>\n",
       "      <td>4440.29</td>\n",
       "      <td>1375</td>\n",
       "      <td>16805.11</td>\n",
       "      <td>373.65</td>\n",
       "    </tr>\n",
       "    <tr>\n",
       "      <th>4</th>\n",
       "      <td>2178</td>\n",
       "      <td>5160.06</td>\n",
       "      <td>7753.66</td>\n",
       "      <td>4279</td>\n",
       "      <td>54411.42</td>\n",
       "      <td>1156.12</td>\n",
       "    </tr>\n",
       "  </tbody>\n",
       "</table>\n",
       "</div>"
      ],
      "text/plain": [
       "   Store Number  State Bottle Cost  State Bottle Retail  Bottles Sold  \\\n",
       "0          2106           12739.50             19125.22         21793   \n",
       "1          2113            3558.75              5342.48          1618   \n",
       "2          2130            9574.79             14370.92         16123   \n",
       "3          2152            2954.28              4440.29          1375   \n",
       "4          2178            5160.06              7753.66          4279   \n",
       "\n",
       "   Sale (Dollars)  Volume Sold (Gallons)  \n",
       "0       313463.43                5369.95  \n",
       "1        22351.86                 423.73  \n",
       "2       238893.70                3863.08  \n",
       "3        16805.11                 373.65  \n",
       "4        54411.42                1156.12  "
      ]
     },
     "execution_count": 20,
     "metadata": {},
     "output_type": "execute_result"
    }
   ],
   "source": [
    "#Creating full first three months data set/ignoring full 2015 data for now... \n",
    "three_months_full = booze_2015[mask_dates_two]\n",
    "three_months_full = three_months_full.groupby('Store Number')[['State Bottle Cost', 'State Bottle Retail', 'Bottles Sold',\n",
    "       'Sale (Dollars)', 'Volume Sold (Gallons)']].sum().reset_index(level=0)\n",
    "three_months_full.head()"
   ]
  },
  {
   "cell_type": "code",
   "execution_count": 21,
   "metadata": {},
   "outputs": [
    {
     "name": "stdout",
     "output_type": "stream",
     "text": [
      "Store Number\n",
      "2637.4\n",
      "State Bottle Cost\n",
      "349.0160000000001\n",
      "State Bottle Retail\n",
      "524.623\n",
      "Bottles Sold\n",
      "468.0\n",
      "Sale (Dollars)\n",
      "4992.872999999999\n",
      "Volume Sold (Gallons)\n",
      "94.94000000000001\n"
     ]
    }
   ],
   "source": [
    "#Imputing missing values based on Xth percentile (changing regularly)\n",
    "for col in three_months_full.columns: \n",
    "    print(col)\n",
    "    print(three_months_full[col].quantile(.10))"
   ]
  },
  {
   "cell_type": "code",
   "execution_count": 22,
   "metadata": {
    "collapsed": true
   },
   "outputs": [],
   "source": [
    "missing_stores_sim = missing_stores_sim.drop('Three months (thousands)', axis=1)"
   ]
  },
  {
   "cell_type": "code",
   "execution_count": 23,
   "metadata": {
    "collapsed": true
   },
   "outputs": [],
   "source": [
    "#Placing missing values into new data frame\n",
    "nums = [349.0160000000001,  524.623,  468.0 , 4992.872999999999, 94.94000000000001]\n",
    "for ind, col in enumerate(['State Bottle Cost', 'State Bottle Retail',\n",
    "       'Bottles Sold','Sale (Dollars)', 'Volume Sold (Gallons)']):\n",
    "    missing_stores_sim[col] = nums[ind]\n",
    "\n",
    "#Appending missing stores \n",
    "three_months_full = three_months_full.append(missing_stores_sim).reset_index(drop=True)"
   ]
  },
  {
   "cell_type": "code",
   "execution_count": 24,
   "metadata": {
    "collapsed": true
   },
   "outputs": [],
   "source": [
    "#Cleaning before appending\n",
    "three_months_full['Three months (thousands)'] = three_months_full['Sale (Dollars)'] / 1000\n",
    "three_months_full = three_months_full.drop('Sale (Dollars)', axis = 1)\n"
   ]
  },
  {
   "cell_type": "code",
   "execution_count": 25,
   "metadata": {
    "collapsed": true
   },
   "outputs": [],
   "source": [
    "#Creting new three month frame / merging county data \n",
    "X_three = pd.merge(three_months_full, x_county, on='Store Number')"
   ]
  },
  {
   "cell_type": "code",
   "execution_count": 26,
   "metadata": {
    "collapsed": true
   },
   "outputs": [],
   "source": [
    "X_three = pd.merge(X_three, county_demographics, left_on='County', right_on='Areaname')\n",
    "X_three = X_three.drop('Median household income 2009', axis=1)\n",
    "X_three = X_three.drop('Areaname', axis=1)"
   ]
  },
  {
   "cell_type": "code",
   "execution_count": 27,
   "metadata": {
    "collapsed": true
   },
   "outputs": [],
   "source": [
    "#First regression \n",
    "X_three = X_three.sort_values('Store Number').set_index('Store Number')\n",
    "X = X_three[['Bottles Sold', 'State Bottle Cost', 'State Bottle Retail',\n",
    "        'Three months (thousands)', 'Volume Sold (Gallons)',\n",
    "        'All People in poverty- 2009', \n",
    "       'Percent Population Male 20 - 34 (2016)', 'Population per sq mile',\n",
    "       'Median household income 2009 (thousands)']]"
   ]
  },
  {
   "cell_type": "code",
   "execution_count": 28,
   "metadata": {},
   "outputs": [
    {
     "data": {
      "text/plain": [
       "243644726.83000049"
      ]
     },
     "execution_count": 28,
     "metadata": {},
     "output_type": "execute_result"
    }
   ],
   "source": [
    "target['Sale (Dollars)'].sum()"
   ]
  },
  {
   "cell_type": "code",
   "execution_count": 29,
   "metadata": {},
   "outputs": [
    {
     "data": {
      "text/html": [
       "<table class=\"simpletable\">\n",
       "<caption>OLS Regression Results</caption>\n",
       "<tr>\n",
       "  <th>Dep. Variable:</th>     <td>Sale (Dollars)</td>  <th>  R-squared:         </th> <td>   0.978</td> \n",
       "</tr>\n",
       "<tr>\n",
       "  <th>Model:</th>                   <td>OLS</td>       <th>  Adj. R-squared:    </th> <td>   0.978</td> \n",
       "</tr>\n",
       "<tr>\n",
       "  <th>Method:</th>             <td>Least Squares</td>  <th>  F-statistic:       </th> <td>   6793.</td> \n",
       "</tr>\n",
       "<tr>\n",
       "  <th>Date:</th>             <td>Fri, 09 Feb 2018</td> <th>  Prob (F-statistic):</th>  <td>  0.00</td>  \n",
       "</tr>\n",
       "<tr>\n",
       "  <th>Time:</th>                 <td>09:29:56</td>     <th>  Log-Likelihood:    </th> <td> -16858.</td> \n",
       "</tr>\n",
       "<tr>\n",
       "  <th>No. Observations:</th>      <td>  1373</td>      <th>  AIC:               </th> <td>3.374e+04</td>\n",
       "</tr>\n",
       "<tr>\n",
       "  <th>Df Residuals:</th>          <td>  1363</td>      <th>  BIC:               </th> <td>3.379e+04</td>\n",
       "</tr>\n",
       "<tr>\n",
       "  <th>Df Model:</th>              <td>     9</td>      <th>                     </th>     <td> </td>    \n",
       "</tr>\n",
       "<tr>\n",
       "  <th>Covariance Type:</th>      <td>nonrobust</td>    <th>                     </th>     <td> </td>    \n",
       "</tr>\n",
       "</table>\n",
       "<table class=\"simpletable\">\n",
       "<tr>\n",
       "                      <td></td>                        <th>coef</th>     <th>std err</th>      <th>t</th>      <th>P>|t|</th>  <th>[0.025</th>    <th>0.975]</th>  \n",
       "</tr>\n",
       "<tr>\n",
       "  <th>const</th>                                    <td>-1.343e+04</td> <td> 1.55e+04</td> <td>   -0.869</td> <td> 0.385</td> <td>-4.38e+04</td> <td> 1.69e+04</td>\n",
       "</tr>\n",
       "<tr>\n",
       "  <th>Bottles Sold</th>                             <td>   -6.1133</td> <td>    1.728</td> <td>   -3.538</td> <td> 0.000</td> <td>   -9.503</td> <td>   -2.724</td>\n",
       "</tr>\n",
       "<tr>\n",
       "  <th>State Bottle Cost</th>                        <td>-1435.9780</td> <td>  646.133</td> <td>   -2.222</td> <td> 0.026</td> <td>-2703.500</td> <td> -168.456</td>\n",
       "</tr>\n",
       "<tr>\n",
       "  <th>State Bottle Retail</th>                      <td>  957.7958</td> <td>  430.148</td> <td>    2.227</td> <td> 0.026</td> <td>  113.971</td> <td> 1801.621</td>\n",
       "</tr>\n",
       "<tr>\n",
       "  <th>Three months (thousands)</th>                 <td> 4429.4718</td> <td>  177.889</td> <td>   24.900</td> <td> 0.000</td> <td> 4080.506</td> <td> 4778.438</td>\n",
       "</tr>\n",
       "<tr>\n",
       "  <th>Volume Sold (Gallons)</th>                    <td>   10.8124</td> <td>   11.132</td> <td>    0.971</td> <td> 0.332</td> <td>  -11.026</td> <td>   32.651</td>\n",
       "</tr>\n",
       "<tr>\n",
       "  <th>All People in poverty- 2009</th>              <td>    0.6573</td> <td>    0.748</td> <td>    0.879</td> <td> 0.379</td> <td>   -0.809</td> <td>    2.124</td>\n",
       "</tr>\n",
       "<tr>\n",
       "  <th>Percent Population Male 20 - 34 (2016)</th>   <td>  -66.1292</td> <td>  442.090</td> <td>   -0.150</td> <td> 0.881</td> <td> -933.380</td> <td>  801.122</td>\n",
       "</tr>\n",
       "<tr>\n",
       "  <th>Population per sq mile</th>                   <td>  -22.9636</td> <td>   45.117</td> <td>   -0.509</td> <td> 0.611</td> <td> -111.471</td> <td>   65.544</td>\n",
       "</tr>\n",
       "<tr>\n",
       "  <th>Median household income 2009 (thousands)</th> <td>  302.1727</td> <td>  310.893</td> <td>    0.972</td> <td> 0.331</td> <td> -307.708</td> <td>  912.054</td>\n",
       "</tr>\n",
       "</table>\n",
       "<table class=\"simpletable\">\n",
       "<tr>\n",
       "  <th>Omnibus:</th>       <td>929.997</td> <th>  Durbin-Watson:     </th> <td>   1.463</td> \n",
       "</tr>\n",
       "<tr>\n",
       "  <th>Prob(Omnibus):</th> <td> 0.000</td>  <th>  Jarque-Bera (JB):  </th> <td>83614.528</td>\n",
       "</tr>\n",
       "<tr>\n",
       "  <th>Skew:</th>          <td> 2.333</td>  <th>  Prob(JB):          </th> <td>    0.00</td> \n",
       "</tr>\n",
       "<tr>\n",
       "  <th>Kurtosis:</th>      <td>40.945</td>  <th>  Cond. No.          </th> <td>2.38e+05</td> \n",
       "</tr>\n",
       "</table>"
      ],
      "text/plain": [
       "<class 'statsmodels.iolib.summary.Summary'>\n",
       "\"\"\"\n",
       "                            OLS Regression Results                            \n",
       "==============================================================================\n",
       "Dep. Variable:         Sale (Dollars)   R-squared:                       0.978\n",
       "Model:                            OLS   Adj. R-squared:                  0.978\n",
       "Method:                 Least Squares   F-statistic:                     6793.\n",
       "Date:                Fri, 09 Feb 2018   Prob (F-statistic):               0.00\n",
       "Time:                        09:29:56   Log-Likelihood:                -16858.\n",
       "No. Observations:                1373   AIC:                         3.374e+04\n",
       "Df Residuals:                    1363   BIC:                         3.379e+04\n",
       "Df Model:                           9                                         \n",
       "Covariance Type:            nonrobust                                         \n",
       "============================================================================================================\n",
       "                                               coef    std err          t      P>|t|      [0.025      0.975]\n",
       "------------------------------------------------------------------------------------------------------------\n",
       "const                                    -1.343e+04   1.55e+04     -0.869      0.385   -4.38e+04    1.69e+04\n",
       "Bottles Sold                                -6.1133      1.728     -3.538      0.000      -9.503      -2.724\n",
       "State Bottle Cost                        -1435.9780    646.133     -2.222      0.026   -2703.500    -168.456\n",
       "State Bottle Retail                        957.7958    430.148      2.227      0.026     113.971    1801.621\n",
       "Three months (thousands)                  4429.4718    177.889     24.900      0.000    4080.506    4778.438\n",
       "Volume Sold (Gallons)                       10.8124     11.132      0.971      0.332     -11.026      32.651\n",
       "All People in poverty- 2009                  0.6573      0.748      0.879      0.379      -0.809       2.124\n",
       "Percent Population Male 20 - 34 (2016)     -66.1292    442.090     -0.150      0.881    -933.380     801.122\n",
       "Population per sq mile                     -22.9636     45.117     -0.509      0.611    -111.471      65.544\n",
       "Median household income 2009 (thousands)   302.1727    310.893      0.972      0.331    -307.708     912.054\n",
       "==============================================================================\n",
       "Omnibus:                      929.997   Durbin-Watson:                   1.463\n",
       "Prob(Omnibus):                  0.000   Jarque-Bera (JB):            83614.528\n",
       "Skew:                           2.333   Prob(JB):                         0.00\n",
       "Kurtosis:                      40.945   Cond. No.                     2.38e+05\n",
       "==============================================================================\n",
       "\n",
       "Warnings:\n",
       "[1] Standard Errors assume that the covariance matrix of the errors is correctly specified.\n",
       "[2] The condition number is large, 2.38e+05. This might indicate that there are\n",
       "strong multicollinearity or other numerical problems.\n",
       "\"\"\""
      ]
     },
     "execution_count": 29,
     "metadata": {},
     "output_type": "execute_result"
    }
   ],
   "source": [
    "X = sm.add_constant(X)\n",
    "modelOLS = sm.OLS(target, X).fit()\n",
    "modelOLS.summary()"
   ]
  },
  {
   "cell_type": "code",
   "execution_count": 30,
   "metadata": {},
   "outputs": [
    {
     "data": {
      "text/html": [
       "<table class=\"simpletable\">\n",
       "<caption>OLS Regression Results</caption>\n",
       "<tr>\n",
       "  <th>Dep. Variable:</th>     <td>Sale (Dollars)</td>  <th>  R-squared:         </th> <td>   0.977</td> \n",
       "</tr>\n",
       "<tr>\n",
       "  <th>Model:</th>                   <td>OLS</td>       <th>  Adj. R-squared:    </th> <td>   0.977</td> \n",
       "</tr>\n",
       "<tr>\n",
       "  <th>Method:</th>             <td>Least Squares</td>  <th>  F-statistic:       </th> <td>5.920e+04</td>\n",
       "</tr>\n",
       "<tr>\n",
       "  <th>Date:</th>             <td>Fri, 09 Feb 2018</td> <th>  Prob (F-statistic):</th>  <td>  0.00</td>  \n",
       "</tr>\n",
       "<tr>\n",
       "  <th>Time:</th>                 <td>09:29:56</td>     <th>  Log-Likelihood:    </th> <td> -16884.</td> \n",
       "</tr>\n",
       "<tr>\n",
       "  <th>No. Observations:</th>      <td>  1373</td>      <th>  AIC:               </th> <td>3.377e+04</td>\n",
       "</tr>\n",
       "<tr>\n",
       "  <th>Df Residuals:</th>          <td>  1371</td>      <th>  BIC:               </th> <td>3.378e+04</td>\n",
       "</tr>\n",
       "<tr>\n",
       "  <th>Df Model:</th>              <td>     1</td>      <th>                     </th>     <td> </td>    \n",
       "</tr>\n",
       "<tr>\n",
       "  <th>Covariance Type:</th>      <td>nonrobust</td>    <th>                     </th>     <td> </td>    \n",
       "</tr>\n",
       "</table>\n",
       "<table class=\"simpletable\">\n",
       "<tr>\n",
       "              <td></td>                <th>coef</th>     <th>std err</th>      <th>t</th>      <th>P>|t|</th>  <th>[0.025</th>    <th>0.975]</th>  \n",
       "</tr>\n",
       "<tr>\n",
       "  <th>const</th>                    <td> 5005.7644</td> <td> 1597.224</td> <td>    3.134</td> <td> 0.002</td> <td> 1872.496</td> <td> 8139.033</td>\n",
       "</tr>\n",
       "<tr>\n",
       "  <th>Three months (thousands)</th> <td> 4346.4395</td> <td>   17.864</td> <td>  243.306</td> <td> 0.000</td> <td> 4311.396</td> <td> 4381.483</td>\n",
       "</tr>\n",
       "</table>\n",
       "<table class=\"simpletable\">\n",
       "<tr>\n",
       "  <th>Omnibus:</th>       <td>953.875</td> <th>  Durbin-Watson:     </th> <td>   1.446</td> \n",
       "</tr>\n",
       "<tr>\n",
       "  <th>Prob(Omnibus):</th> <td> 0.000</td>  <th>  Jarque-Bera (JB):  </th> <td>77816.106</td>\n",
       "</tr>\n",
       "<tr>\n",
       "  <th>Skew:</th>          <td> 2.464</td>  <th>  Prob(JB):          </th> <td>    0.00</td> \n",
       "</tr>\n",
       "<tr>\n",
       "  <th>Kurtosis:</th>      <td>39.550</td>  <th>  Cond. No.          </th> <td>    99.8</td> \n",
       "</tr>\n",
       "</table>"
      ],
      "text/plain": [
       "<class 'statsmodels.iolib.summary.Summary'>\n",
       "\"\"\"\n",
       "                            OLS Regression Results                            \n",
       "==============================================================================\n",
       "Dep. Variable:         Sale (Dollars)   R-squared:                       0.977\n",
       "Model:                            OLS   Adj. R-squared:                  0.977\n",
       "Method:                 Least Squares   F-statistic:                 5.920e+04\n",
       "Date:                Fri, 09 Feb 2018   Prob (F-statistic):               0.00\n",
       "Time:                        09:29:56   Log-Likelihood:                -16884.\n",
       "No. Observations:                1373   AIC:                         3.377e+04\n",
       "Df Residuals:                    1371   BIC:                         3.378e+04\n",
       "Df Model:                           1                                         \n",
       "Covariance Type:            nonrobust                                         \n",
       "============================================================================================\n",
       "                               coef    std err          t      P>|t|      [0.025      0.975]\n",
       "--------------------------------------------------------------------------------------------\n",
       "const                     5005.7644   1597.224      3.134      0.002    1872.496    8139.033\n",
       "Three months (thousands)  4346.4395     17.864    243.306      0.000    4311.396    4381.483\n",
       "==============================================================================\n",
       "Omnibus:                      953.875   Durbin-Watson:                   1.446\n",
       "Prob(Omnibus):                  0.000   Jarque-Bera (JB):            77816.106\n",
       "Skew:                           2.464   Prob(JB):                         0.00\n",
       "Kurtosis:                      39.550   Cond. No.                         99.8\n",
       "==============================================================================\n",
       "\n",
       "Warnings:\n",
       "[1] Standard Errors assume that the covariance matrix of the errors is correctly specified.\n",
       "\"\"\""
      ]
     },
     "execution_count": 30,
     "metadata": {},
     "output_type": "execute_result"
    }
   ],
   "source": [
    "#Completely reduced model\n",
    "X = X_three[[\n",
    "        'Three months (thousands)']]\n",
    "X = sm.add_constant(X)\n",
    "modelOLS = sm.OLS(target, X).fit()\n",
    "modelOLS.summary()"
   ]
  },
  {
   "cell_type": "code",
   "execution_count": 31,
   "metadata": {},
   "outputs": [
    {
     "data": {
      "text/plain": [
       "[]"
      ]
     },
     "execution_count": 31,
     "metadata": {},
     "output_type": "execute_result"
    },
    {
     "data": {
      "image/png": "[encoded data removed]",
      "text/plain": [
       "<matplotlib.figure.Figure at 0x1c2d339828>"
      ]
     },
     "metadata": {},
     "output_type": "display_data"
    }
   ],
   "source": [
    "#Graphing store by store residuals\n",
    "predictions = modelOLS.predict(X)\n",
    "base_model = list(predictions)\n",
    "new_targ = target.copy()\n",
    "new_targ['Predictions'] = base_model\n",
    "new_targ = new_targ.sort_values('Sale (Dollars)')\n",
    "\n",
    "#Figure\n",
    "fig = plt.figure(figsize=(13,7))\n",
    "ax = fig.gca()\n",
    "plt.plot(np.arange(0, 1373), new_targ['Sale (Dollars)'])\n",
    "plt.scatter(np.arange(0, 1373), new_targ['Predictions'], c='Red')\n",
    "plt.legend()\n",
    "plt.ylabel('Sales ($)')\n",
    "plt.title('Predicted vs. Reality (Missing Stores at 10th Percentile)')\n",
    "ax.set_yscale('log')\n",
    "ax.get_xaxis().set_ticks([])"
   ]
  },
  {
   "cell_type": "code",
   "execution_count": 32,
   "metadata": {
    "collapsed": true
   },
   "outputs": [],
   "source": [
    "#Prepping 2016 for analysis \n",
    "three_2016 = booze_2016.groupby('Store Number', as_index=False)[['Sale (Dollars)']].sum()\n",
    "three_2016['Three months (thousands) 2016'] = three_2016['Sale (Dollars)'] / 1000\n",
    "three_2016 = three_2016.drop('Sale (Dollars)', axis=1)"
   ]
  },
  {
   "cell_type": "code",
   "execution_count": 33,
   "metadata": {
    "collapsed": true
   },
   "outputs": [],
   "source": [
    "#I am going to assume that the new year will have a similar number of stores without sales in the first three months,\n",
    "#and that they follow a similar sales pattern (10th percentile)\n",
    "#set(X_three.reset_index()['Store Number']) - set(three_2016['Store Number']) ... looking at non-overlapping values\n",
    "merged_comparison = pd.merge(three_2016, X_three.reset_index()[['Store Number', 'Three months (thousands)']], on='Store Number')"
   ]
  },
  {
   "cell_type": "code",
   "execution_count": 34,
   "metadata": {
    "collapsed": true
   },
   "outputs": [],
   "source": [
    "merged_comparison['difference'] = merged_comparison['Three months (thousands) 2016'] - merged_comparison['Three months (thousands)']\n",
    "# matched stores on average sold 2900 more in 2016, ~3.8 million more in total\n",
    "mask = merged_comparison.duplicated(subset='Three months (thousands)')\n",
    "#however there were 84 stores that were given artificial data for 2015, with 18,000 additional sales in 2016\n",
    "merged_comparison[mask]['difference'].mean()\n",
    "#removing these leads to only 1800 in additional sales.\n",
    "merged_comparison[~mask]['difference'].mean()\n",
    "X = merged_comparison[['Three months (thousands) 2016']]"
   ]
  },
  {
   "cell_type": "code",
   "execution_count": 35,
   "metadata": {},
   "outputs": [
    {
     "data": {
      "text/plain": [
       "251684402.3431237"
      ]
     },
     "execution_count": 35,
     "metadata": {},
     "output_type": "execute_result"
    }
   ],
   "source": [
    "#2016 basic predictions !\n",
    "X = sm.add_constant(X)\n",
    "predictions = modelOLS.predict(X)\n",
    "sum(predictions)"
   ]
  },
  {
   "cell_type": "code",
   "execution_count": 36,
   "metadata": {},
   "outputs": [
    {
     "data": {
      "text/plain": [
       "17474.480000000003"
      ]
     },
     "execution_count": 36,
     "metadata": {},
     "output_type": "execute_result"
    }
   ],
   "source": [
    "target['Sale (Dollars)'].quantile(.10)"
   ]
  },
  {
   "cell_type": "code",
   "execution_count": 37,
   "metadata": {},
   "outputs": [
    {
     "data": {
      "text/plain": [
       "(1290, 2)"
      ]
     },
     "execution_count": 37,
     "metadata": {},
     "output_type": "execute_result"
    }
   ],
   "source": [
    "merged_comparison['2016 predictions'] = predictions\n",
    "merge_2 = pd.merge(merged_comparison, target.reset_index(), on='Store Number')\n",
    "merge_2 = merge_2[['2016 predictions', 'Sale (Dollars)']].sort_values('Sale (Dollars)')\n",
    "merge_2.shape"
   ]
  },
  {
   "cell_type": "code",
   "execution_count": 38,
   "metadata": {},
   "outputs": [
    {
     "data": {
      "text/plain": [
       "[]"
      ]
     },
     "execution_count": 38,
     "metadata": {},
     "output_type": "execute_result"
    },
    {
     "data": {
      "image/png": "[encoded data removed]",
      "text/plain": [
       "<matplotlib.figure.Figure at 0x1c2c6cb3c8>"
      ]
     },
     "metadata": {},
     "output_type": "display_data"
    }
   ],
   "source": [
    "fig = plt.figure(figsize=(10,6))\n",
    "ax = fig.gca()\n",
    "plt.plot(np.arange(0,1290), merge_2['Sale (Dollars)'], label='2015 Sales')\n",
    "plt.scatter(np.arange(0, 1290), merge_2['2016 predictions'], c='pink')\n",
    "plt.legend()\n",
    "plt.ylabel('Annual Sales ($)')\n",
    "plt.title('2016 Predictions vs. 2015 Sales')\n",
    "ax.set_yscale('log')\n",
    "ax.get_xaxis().set_ticks([])"
   ]
  },
  {
   "cell_type": "code",
   "execution_count": 39,
   "metadata": {},
   "outputs": [
    {
     "data": {
      "text/plain": [
       "1.0398193760262726"
      ]
     },
     "execution_count": 39,
     "metadata": {},
     "output_type": "execute_result"
    }
   ],
   "source": [
    "#Assuming similar number of store will record sales in 2016, that didn't in first three months\n",
    "#specifically, conservatively assuming 60% fo the 91 that did the previous year...\n",
    "target['Sale (Dollars)'].quantile(.10) * 91\n",
    "(251.7 + 1.6)/243.6"
   ]
  },
  {
   "cell_type": "code",
   "execution_count": 45,
   "metadata": {},
   "outputs": [
    {
     "data": {
      "text/html": [
       "<div>\n",
       "<style scoped>\n",
       "    .dataframe tbody tr th:only-of-type {\n",
       "        vertical-align: middle;\n",
       "    }\n",
       "\n",
       "    .dataframe tbody tr th {\n",
       "        vertical-align: top;\n",
       "    }\n",
       "\n",
       "    .dataframe thead th {\n",
       "        text-align: right;\n",
       "    }\n",
       "</style>\n",
       "<table border=\"1\" class=\"dataframe\">\n",
       "  <thead>\n",
       "    <tr style=\"text-align: right;\">\n",
       "      <th></th>\n",
       "      <th>0</th>\n",
       "      <th>1</th>\n",
       "    </tr>\n",
       "  </thead>\n",
       "  <tbody>\n",
       "    <tr>\n",
       "      <th>const</th>\n",
       "      <td>1872.495963</td>\n",
       "      <td>8139.032885</td>\n",
       "    </tr>\n",
       "    <tr>\n",
       "      <th>Three months (thousands)</th>\n",
       "      <td>4311.395643</td>\n",
       "      <td>4381.483362</td>\n",
       "    </tr>\n",
       "  </tbody>\n",
       "</table>\n",
       "</div>"
      ],
      "text/plain": [
       "                                    0            1\n",
       "const                     1872.495963  8139.032885\n",
       "Three months (thousands)  4311.395643  4381.483362"
      ]
     },
     "execution_count": 45,
     "metadata": {},
     "output_type": "execute_result"
    }
   ],
   "source": [
    "modelOLS.conf_int()"
   ]
  },
  {
   "cell_type": "code",
   "execution_count": 50,
   "metadata": {},
   "outputs": [
    {
     "data": {
      "text/plain": [
       "257704396.36417514"
      ]
     },
     "execution_count": 50,
     "metadata": {},
     "output_type": "execute_result"
    }
   ],
   "source": [
    "#Mutliplying by upper and lower bound of coefficient intervals\n",
    "X['Lower'] = X['Three months (thousands) 2016'] * 4311.4 + 1872.5\n",
    "X['Upper'] = X['Three months (thousands) 2016'] * 4381.5 + 8139\n",
    "X['Upper'].sum()"
   ]
  }
 ],
 "metadata": {
  "kernelspec": {
   "display_name": "Python 3",
   "language": "python",
   "name": "python3"
  },
  "language_info": {
   "codemirror_mode": {
    "name": "ipython",
    "version": 3
   },
   "file_extension": ".py",
   "mimetype": "text/x-python",
   "name": "python",
   "nbconvert_exporter": "python",
   "pygments_lexer": "ipython3",
   "version": "3.6.4"
  }
 },
 "nbformat": 4,
 "nbformat_minor": 2
}
