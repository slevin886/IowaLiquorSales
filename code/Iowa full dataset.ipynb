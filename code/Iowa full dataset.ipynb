{
 "cells": [
  {
   "cell_type": "code",
   "execution_count": 2,
   "metadata": {
    "collapsed": true
   },
   "outputs": [],
   "source": [
    "import pandas as pd \n",
    "import numpy as np\n",
    "import matplotlib.pyplot as plt\n",
    "import seaborn as sns\n",
    "from sklearn.preprocessing import StandardScaler\n",
    "%matplotlib inline \n"
   ]
  },
  {
   "cell_type": "code",
   "execution_count": 3,
   "metadata": {},
   "outputs": [
    {
     "name": "stderr",
     "output_type": "stream",
     "text": [
      "/Users/slevin886/anaconda2/envs/python3/lib/python3.6/site-packages/IPython/core/interactiveshell.py:2728: DtypeWarning: Columns (6) have mixed types. Specify dtype option on import or set low_memory=False.\n",
      "  interactivity=interactivity, compiler=compiler, result=result)\n"
     ]
    },
    {
     "data": {
      "text/plain": [
       "(2709552, 24)"
      ]
     },
     "execution_count": 3,
     "metadata": {},
     "output_type": "execute_result"
    }
   ],
   "source": [
    "booze = pd.read_csv('../iowa_liquor_sales_proj_2.csv')\n",
    "booze.shape"
   ]
  },
  {
   "cell_type": "code",
   "execution_count": 4,
   "metadata": {},
   "outputs": [],
   "source": [
    "#Finding patterns for store location\n",
    "import re\n",
    "#tester = booze.head()\n",
    "# tester\n",
    "# pattern2 = r'[(].+[)]'\n",
    "# tester['Store Location'].apply(lambda x: re.findall(pattern2,x))"
   ]
  },
  {
   "cell_type": "code",
   "execution_count": 5,
   "metadata": {},
   "outputs": [
    {
     "data": {
      "text/html": [
       "<div>\n",
       "<style scoped>\n",
       "    .dataframe tbody tr th:only-of-type {\n",
       "        vertical-align: middle;\n",
       "    }\n",
       "\n",
       "    .dataframe tbody tr th {\n",
       "        vertical-align: top;\n",
       "    }\n",
       "\n",
       "    .dataframe thead th {\n",
       "        text-align: right;\n",
       "    }\n",
       "</style>\n",
       "<table border=\"1\" class=\"dataframe\">\n",
       "  <thead>\n",
       "    <tr style=\"text-align: right;\">\n",
       "      <th></th>\n",
       "      <th>Invoice/Item Number</th>\n",
       "      <th>Date</th>\n",
       "      <th>Store Number</th>\n",
       "      <th>Store Name</th>\n",
       "      <th>Address</th>\n",
       "      <th>City</th>\n",
       "      <th>Zip Code</th>\n",
       "      <th>Store Location</th>\n",
       "      <th>County Number</th>\n",
       "      <th>County</th>\n",
       "      <th>...</th>\n",
       "      <th>Item Number</th>\n",
       "      <th>Item Description</th>\n",
       "      <th>Pack</th>\n",
       "      <th>Bottle Volume (ml)</th>\n",
       "      <th>State Bottle Cost</th>\n",
       "      <th>State Bottle Retail</th>\n",
       "      <th>Bottles Sold</th>\n",
       "      <th>Sale (Dollars)</th>\n",
       "      <th>Volume Sold (Liters)</th>\n",
       "      <th>Volume Sold (Gallons)</th>\n",
       "    </tr>\n",
       "  </thead>\n",
       "  <tbody>\n",
       "    <tr>\n",
       "      <th>0</th>\n",
       "      <td>S29198800001</td>\n",
       "      <td>11/20/2015</td>\n",
       "      <td>2191</td>\n",
       "      <td>Keokuk Spirits</td>\n",
       "      <td>1013 MAIN</td>\n",
       "      <td>KEOKUK</td>\n",
       "      <td>52632</td>\n",
       "      <td>1013 MAIN\\nKEOKUK 52632\\n(40.39978, -91.387531)</td>\n",
       "      <td>56.0</td>\n",
       "      <td>Lee</td>\n",
       "      <td>...</td>\n",
       "      <td>297</td>\n",
       "      <td>Templeton Rye w/Flask</td>\n",
       "      <td>6</td>\n",
       "      <td>750</td>\n",
       "      <td>$18.09</td>\n",
       "      <td>$27.14</td>\n",
       "      <td>6</td>\n",
       "      <td>$162.84</td>\n",
       "      <td>4.50</td>\n",
       "      <td>1.19</td>\n",
       "    </tr>\n",
       "    <tr>\n",
       "      <th>1</th>\n",
       "      <td>S29195400002</td>\n",
       "      <td>11/21/2015</td>\n",
       "      <td>2205</td>\n",
       "      <td>Ding's Honk And Holler</td>\n",
       "      <td>900 E WASHINGTON</td>\n",
       "      <td>CLARINDA</td>\n",
       "      <td>51632</td>\n",
       "      <td>900 E WASHINGTON\\nCLARINDA 51632\\n(40.739238, ...</td>\n",
       "      <td>73.0</td>\n",
       "      <td>Page</td>\n",
       "      <td>...</td>\n",
       "      <td>297</td>\n",
       "      <td>Templeton Rye w/Flask</td>\n",
       "      <td>6</td>\n",
       "      <td>750</td>\n",
       "      <td>$18.09</td>\n",
       "      <td>$27.14</td>\n",
       "      <td>12</td>\n",
       "      <td>$325.68</td>\n",
       "      <td>9.00</td>\n",
       "      <td>2.38</td>\n",
       "    </tr>\n",
       "    <tr>\n",
       "      <th>2</th>\n",
       "      <td>S29050300001</td>\n",
       "      <td>11/16/2015</td>\n",
       "      <td>3549</td>\n",
       "      <td>Quicker Liquor Store</td>\n",
       "      <td>1414 48TH ST</td>\n",
       "      <td>FORT MADISON</td>\n",
       "      <td>52627</td>\n",
       "      <td>1414 48TH ST\\nFORT MADISON 52627\\n(40.624226, ...</td>\n",
       "      <td>56.0</td>\n",
       "      <td>Lee</td>\n",
       "      <td>...</td>\n",
       "      <td>249</td>\n",
       "      <td>Disaronno Amaretto Cavalli Mignon 3-50ml Pack</td>\n",
       "      <td>20</td>\n",
       "      <td>150</td>\n",
       "      <td>$6.40</td>\n",
       "      <td>$9.60</td>\n",
       "      <td>2</td>\n",
       "      <td>$19.20</td>\n",
       "      <td>0.30</td>\n",
       "      <td>0.08</td>\n",
       "    </tr>\n",
       "    <tr>\n",
       "      <th>3</th>\n",
       "      <td>S28867700001</td>\n",
       "      <td>11/04/2015</td>\n",
       "      <td>2513</td>\n",
       "      <td>Hy-Vee Food Store #2 / Iowa City</td>\n",
       "      <td>812  S 1ST AVE</td>\n",
       "      <td>IOWA CITY</td>\n",
       "      <td>52240</td>\n",
       "      <td>812 S 1ST AVE\\nIOWA CITY 52240\\n</td>\n",
       "      <td>52.0</td>\n",
       "      <td>Johnson</td>\n",
       "      <td>...</td>\n",
       "      <td>237</td>\n",
       "      <td>Knob Creek w/ Crystal Decanter</td>\n",
       "      <td>3</td>\n",
       "      <td>1750</td>\n",
       "      <td>$35.55</td>\n",
       "      <td>$53.34</td>\n",
       "      <td>3</td>\n",
       "      <td>$160.02</td>\n",
       "      <td>5.25</td>\n",
       "      <td>1.39</td>\n",
       "    </tr>\n",
       "    <tr>\n",
       "      <th>4</th>\n",
       "      <td>S29050800001</td>\n",
       "      <td>11/17/2015</td>\n",
       "      <td>3942</td>\n",
       "      <td>Twin Town Liquor</td>\n",
       "      <td>104 HIGHWAY 30 WEST</td>\n",
       "      <td>TOLEDO</td>\n",
       "      <td>52342</td>\n",
       "      <td>104 HIGHWAY 30 WEST\\nTOLEDO 52342\\n(41.985887,...</td>\n",
       "      <td>86.0</td>\n",
       "      <td>Tama</td>\n",
       "      <td>...</td>\n",
       "      <td>249</td>\n",
       "      <td>Disaronno Amaretto Cavalli Mignon 3-50ml Pack</td>\n",
       "      <td>20</td>\n",
       "      <td>150</td>\n",
       "      <td>$6.40</td>\n",
       "      <td>$9.60</td>\n",
       "      <td>2</td>\n",
       "      <td>$19.20</td>\n",
       "      <td>0.30</td>\n",
       "      <td>0.08</td>\n",
       "    </tr>\n",
       "  </tbody>\n",
       "</table>\n",
       "<p>5 rows × 24 columns</p>\n",
       "</div>"
      ],
      "text/plain": [
       "  Invoice/Item Number        Date  Store Number  \\\n",
       "0        S29198800001  11/20/2015          2191   \n",
       "1        S29195400002  11/21/2015          2205   \n",
       "2        S29050300001  11/16/2015          3549   \n",
       "3        S28867700001  11/04/2015          2513   \n",
       "4        S29050800001  11/17/2015          3942   \n",
       "\n",
       "                         Store Name              Address          City  \\\n",
       "0                    Keokuk Spirits            1013 MAIN        KEOKUK   \n",
       "1            Ding's Honk And Holler     900 E WASHINGTON      CLARINDA   \n",
       "2              Quicker Liquor Store         1414 48TH ST  FORT MADISON   \n",
       "3  Hy-Vee Food Store #2 / Iowa City       812  S 1ST AVE     IOWA CITY   \n",
       "4                  Twin Town Liquor  104 HIGHWAY 30 WEST        TOLEDO   \n",
       "\n",
       "  Zip Code                                     Store Location  County Number  \\\n",
       "0    52632    1013 MAIN\\nKEOKUK 52632\\n(40.39978, -91.387531)           56.0   \n",
       "1    51632  900 E WASHINGTON\\nCLARINDA 51632\\n(40.739238, ...           73.0   \n",
       "2    52627  1414 48TH ST\\nFORT MADISON 52627\\n(40.624226, ...           56.0   \n",
       "3    52240                   812 S 1ST AVE\\nIOWA CITY 52240\\n           52.0   \n",
       "4    52342  104 HIGHWAY 30 WEST\\nTOLEDO 52342\\n(41.985887,...           86.0   \n",
       "\n",
       "    County          ...           Item Number  \\\n",
       "0      Lee          ...                   297   \n",
       "1     Page          ...                   297   \n",
       "2      Lee          ...                   249   \n",
       "3  Johnson          ...                   237   \n",
       "4     Tama          ...                   249   \n",
       "\n",
       "                                Item Description  Pack Bottle Volume (ml)  \\\n",
       "0                          Templeton Rye w/Flask     6                750   \n",
       "1                          Templeton Rye w/Flask     6                750   \n",
       "2  Disaronno Amaretto Cavalli Mignon 3-50ml Pack    20                150   \n",
       "3                 Knob Creek w/ Crystal Decanter     3               1750   \n",
       "4  Disaronno Amaretto Cavalli Mignon 3-50ml Pack    20                150   \n",
       "\n",
       "   State Bottle Cost State Bottle Retail  Bottles Sold  Sale (Dollars)  \\\n",
       "0             $18.09              $27.14             6         $162.84   \n",
       "1             $18.09              $27.14            12         $325.68   \n",
       "2              $6.40               $9.60             2          $19.20   \n",
       "3             $35.55              $53.34             3         $160.02   \n",
       "4              $6.40               $9.60             2          $19.20   \n",
       "\n",
       "  Volume Sold (Liters) Volume Sold (Gallons)  \n",
       "0                 4.50                  1.19  \n",
       "1                 9.00                  2.38  \n",
       "2                 0.30                  0.08  \n",
       "3                 5.25                  1.39  \n",
       "4                 0.30                  0.08  \n",
       "\n",
       "[5 rows x 24 columns]"
      ]
     },
     "execution_count": 5,
     "metadata": {},
     "output_type": "execute_result"
    }
   ],
   "source": [
    "booze.head()"
   ]
  },
  {
   "cell_type": "code",
   "execution_count": 6,
   "metadata": {
    "collapsed": true
   },
   "outputs": [],
   "source": [
    "#Converting date column to datetime format\n",
    "booze['Date'] = pd.to_datetime(booze['Date'], infer_datetime_format=True)"
   ]
  },
  {
   "cell_type": "code",
   "execution_count": 7,
   "metadata": {
    "collapsed": true
   },
   "outputs": [],
   "source": [
    "#Cleaning columns to be numeric\n",
    "booze['Sale (Dollars)'] = booze['Sale (Dollars)'].str.replace('$', '').astype(float)\n",
    "booze['State Bottle Retail'] = booze['State Bottle Retail'].str.replace('$', '').astype(float)\n",
    "booze['State Bottle Cost'] = booze['State Bottle Cost'].str.replace('$', '').astype(float)"
   ]
  },
  {
   "cell_type": "code",
   "execution_count": 8,
   "metadata": {},
   "outputs": [],
   "source": [
    "#Turning non-numeric numeric columns into objects \n",
    "booze['Category'] = booze['Category'].astype(object)\n",
    "booze['Vendor Number'] = booze['Vendor Number'].astype(object)\n",
    "booze['Item Number'] = booze['Item Number'].astype(object)\n",
    "booze['County Number'] = booze['County Number'].astype(object)\n",
    "booze['Store Number'] = booze['Store Number'].astype(object)"
   ]
  },
  {
   "cell_type": "code",
   "execution_count": 9,
   "metadata": {
    "collapsed": true
   },
   "outputs": [],
   "source": [
    "#Selecting only the numeric columns\n",
    "numeric_columns = []\n",
    "for col in booze.columns:\n",
    "    if isinstance(booze[col][0], (np.float64, np.int64)):\n",
    "        numeric_columns.append(col)"
   ]
  },
  {
   "cell_type": "code",
   "execution_count": 10,
   "metadata": {},
   "outputs": [],
   "source": [
    "#creating subframe to identify  outliers, standardizing\n",
    "mask = booze[numeric_columns]\n",
    "standard_mask = StandardScaler()\n",
    "mask = pd.DataFrame(standard_mask.fit_transform(mask), columns=numeric_columns)"
   ]
  },
  {
   "cell_type": "code",
   "execution_count": 11,
   "metadata": {
    "collapsed": true
   },
   "outputs": [],
   "source": [
    "#LOCATING OUTLIERS and DROPPING THEM\n",
    "index_list = []\n",
    "\n",
    "for col in mask.columns: \n",
    "    df = mask.loc[(mask[col] > 6) | (mask[col] < -6)]\n",
    "    index_list.extend(list(df.index))\n",
    "\n",
    "index_list = list(set(index_list))\n",
    "\n",
    "todrop = mask.iloc[index_list]\n",
    "\n",
    "#Exploring outliers- the outliers seem well dispersed between cities\n",
    "booze.iloc[index_list].groupby('City')[['Store Number']].nunique()\n",
    "#The types of liquors prevalent in the subgroup are also dispersed between brand types \n",
    "booze.iloc[index_list].groupby('Item Description')[['Store Number']].nunique().sort_values(by='Store Number', ascending=False)\n",
    "\n",
    "#Will run with and without these outliers, creating subset with outliers removed,\n",
    "#dropped observations represent less than 0.5% of observations and are more than 6 standard\n",
    "#deviations from the mean\n",
    "booze_cleaned = booze.drop(todrop.index)\n",
    "mask = mask.drop(todrop.index)"
   ]
  },
  {
   "cell_type": "code",
   "execution_count": 12,
   "metadata": {},
   "outputs": [
    {
     "data": {
      "image/png": "[encoded data removed]",
      "text/plain": [
       "<matplotlib.figure.Figure at 0x1a20e534a8>"
      ]
     },
     "metadata": {},
     "output_type": "display_data"
    }
   ],
   "source": [
    "#Looking at distributions\n",
    "#The outliers from pack size appear to be reasonable\n",
    "#the fireball mini dispenser comprises 92% of the bottle volume outliers above 2 stds. This is ok. \n",
    "#Most outliers explained by the peculiarity of brand or the purpose of store (primarily liquor store/not liquor store)\n",
    "#USE two lines of code below code to explore further, replacing column as aprpriorate\n",
    "#list_pack = list(mask.loc[mask['Bottles Sold'] > 3].index)\n",
    "# booze.iloc[list_pack]\n",
    "fig = plt.figure(figsize=(6, 8))\n",
    "plt.style.use('fivethirtyeight')\n",
    "ax = sns.boxplot(data=mask, orient=\"h\", palette=\"Set2\")"
   ]
  },
  {
   "cell_type": "code",
   "execution_count": 13,
   "metadata": {},
   "outputs": [],
   "source": [
    "#Splitting between 2015 and 2016\n",
    "mask_dates = (booze_cleaned['Date'] > '12/31/2014') & (booze_cleaned['Date'] < '1/1/2016')\n",
    "booze_2015 = booze_cleaned.loc[mask_dates]\n",
    "mask_dates2 = (booze_cleaned['Date'] > '12/31/2015')\n",
    "booze_2016 = booze_cleaned.loc[mask_dates2]"
   ]
  },
  {
   "cell_type": "code",
   "execution_count": 112,
   "metadata": {},
   "outputs": [
    {
     "data": {
      "text/plain": [
       "<matplotlib.axes._subplots.AxesSubplot at 0x1a4421eb38>"
      ]
     },
     "execution_count": 112,
     "metadata": {},
     "output_type": "execute_result"
    },
    {
     "data": {
      "image/png": "[encoded data removed]",
      "text/plain": [
       "<matplotlib.figure.Figure at 0x1a43ae77b8>"
      ]
     },
     "metadata": {},
     "output_type": "display_data"
    }
   ],
   "source": [
    "#Creating my 2015 target variable, and examining dispersion of sales data\n",
    "target = booze_2015.groupby('Store Number')[['Sale (Dollars)']].sum()\n",
    "target.plot.box()"
   ]
  },
  {
   "cell_type": "code",
   "execution_count": 111,
   "metadata": {},
   "outputs": [
    {
     "data": {
      "image/png": "[encoded data removed]",
      "text/plain": [
       "<matplotlib.figure.Figure at 0x1a378d7940>"
      ]
     },
     "metadata": {},
     "output_type": "display_data"
    }
   ],
   "source": [
    "#Creating a chart for monthly total sales in Iowa 2015\n",
    "booze_2015_charts = booze_2015.copy()\n",
    "booze_2015_charts = booze_2015_charts.set_index('Date').resample('M')[['Sale (Dollars)']].sum()\n",
    "booze_2015_charts['Sales in Millions'] = booze_2015_charts['Sale (Dollars)'] / 1000000\n",
    "booze_2015_charts['Sales in Millions'].plot()\n",
    "plt.legend()\n",
    "plt.ylabel('Sales in Millions')\n",
    "plt.xlabel('')\n",
    "plt.title('2015 Sales in Iowa')\n",
    "plt.show()"
   ]
  },
  {
   "cell_type": "code",
   "execution_count": 155,
   "metadata": {},
   "outputs": [],
   "source": [
    "X_booze = booze_2015.groupby('Store Number')[['State Bottle Cost', 'State Bottle Retail', 'Bottles Sold',\n",
    "       'Sale (Dollars)', 'Volume Sold (Gallons)']].sum().reset_index(level=0)"
   ]
  },
  {
   "cell_type": "code",
   "execution_count": 186,
   "metadata": {},
   "outputs": [],
   "source": [
    "#Merging demographic details with X_booze\n",
    "x_county = booze_2015.drop_duplicates(subset=['Store Number', 'County'])\n",
    "\n",
    "#Removing duplicate county (because of NaN value)\n",
    "mask3 = x_county[x_county['Store Number'].duplicated(keep=False)]\n",
    "x_county = x_county[['County', 'Store Number']].drop([469])\n",
    "\n",
    "#Merge beginning\n",
    "x_first = pd.merge(X_booze, x_county, on='Store Number')\n",
    "\n",
    "#Cleaning county demographics\n",
    "county_demographics = pd.read_csv('../IowaDemographics.csv',index_col=0)\n",
    "county_demographics['Areaname'] = county_demographics['Areaname'].str.split(',', expand=True)\n",
    "county_demographics = county_demographics.drop('Median household income 2005', axis=1)\n",
    "county_demographics['Median household income 2009 (thousands)']= county_demographics['Median household income 2009'] / 1000\n",
    "\n",
    "#Merging\n",
    "X = pd.merge(x_first, county_demographics, left_on='County', right_on='Areaname')\n",
    "X = X.drop('Areaname', axis = 1)\n",
    "X = X.drop('Sale (Dollars)', axis=1)\n"
   ]
  },
  {
   "cell_type": "code",
   "execution_count": 272,
   "metadata": {},
   "outputs": [],
   "source": [
    "#Creating first three months variable\n",
    "mask_dates_two = (booze_2015['Date'] > '12/31/2014') & (booze_2015['Date'] < '4/1/2015')\n",
    "three_months = booze_2015[mask_dates_two]\n",
    "three_months = three_months.groupby('Store Number')['Sale (Dollars)'].sum().reset_index(level=0)\n",
    "\n",
    "#91 stores didn't have sales in the first three months of 2015\n",
    "missing_stores = list(set(X['Store Number']) - set(three_months['Store Number']))\n",
    "monthly_sales_missing = booze_2015[booze_2015['Store Number'].isin(missing_stores)].set_index(['Date']).resample('M')['Sale (Dollars)'].sum()"
   ]
  },
  {
   "cell_type": "code",
   "execution_count": 274,
   "metadata": {},
   "outputs": [],
   "source": [
    "#Taking the average sales  from the worst month (January) and extrapolating (conservatively) on that\n",
    "# 16684491 / (1373 - 91)\n",
    "missing_stores_sim = pd.DataFrame({'Store Number': missing_stores, 'Three months (thousands)': (13014 * 3)/1000})\n",
    "three_months = three_months.rename(index=str, columns={'Store Number': 'Store Number',\n",
    "                                                      'Sale (Dollars)': 'Three months (thousands)'})\n",
    "three_months['Three months (thousands)'] = three_months['Three months (thousands)'] / 1000"
   ]
  },
  {
   "cell_type": "code",
   "execution_count": 282,
   "metadata": {},
   "outputs": [],
   "source": [
    "#appending missing stores to three month variable\n",
    "three_month_sales = three_months.append(missing_stores_sim).reset_index(drop=True)\n",
    "\n",
    "#merging three month variable to X \n",
    "X = pd.merge(X, three_month_sales, on='Store Number')"
   ]
  }
 ],
 "metadata": {
  "kernelspec": {
   "display_name": "Python 3",
   "language": "python",
   "name": "python3"
  },
  "language_info": {
   "codemirror_mode": {
    "name": "ipython",
    "version": 3
   },
   "file_extension": ".py",
   "mimetype": "text/x-python",
   "name": "python",
   "nbconvert_exporter": "python",
   "pygments_lexer": "ipython3",
   "version": "3.6.3"
  }
 },
 "nbformat": 4,
 "nbformat_minor": 2
}
